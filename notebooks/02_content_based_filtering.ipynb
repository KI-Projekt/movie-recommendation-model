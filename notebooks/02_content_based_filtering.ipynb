{
 "cells": [
  {
   "cell_type": "markdown",
   "metadata": {},
   "source": [
    "# Content-based Filtering\n",
    "\n",
    "### Loading Libraries"
   ]
  },
  {
   "cell_type": "code",
   "execution_count": 119,
   "metadata": {},
   "outputs": [],
   "source": [
    "import pandas as pd\n",
    "from sklearn.metrics.pairwise import cosine_similarity\n",
    "import warnings\n",
    "import numpy as np\n",
    "from sklearn.model_selection import train_test_split\n",
    "from sklearn.metrics import mean_squared_error, mean_absolute_error\n",
    "import seaborn as sns\n",
    "import matplotlib.pyplot as plt\n",
    "from tqdm import tqdm                   #pip install tqdm\n",
    "warnings.filterwarnings('ignore')"
   ]
  },
  {
   "cell_type": "markdown",
   "metadata": {},
   "source": [
    "### Loading Datasets"
   ]
  },
  {
   "cell_type": "code",
   "execution_count": 120,
   "metadata": {},
   "outputs": [
    {
     "name": "stdout",
     "output_type": "stream",
     "text": [
      "Index(['movieId', 'title', 'genres'], dtype='object')\n"
     ]
    }
   ],
   "source": [
    "movies = pd.read_csv('../data/ml-25m/movies.csv')\n",
    "movies_with_genres = pd.read_csv('../data/movies_with_genres.csv')\n",
    "movies_with_year = pd.read_csv('../data/movies_with_year.csv', sep=';')\n",
    "print(movies.columns)"
   ]
  },
  {
   "cell_type": "markdown",
   "metadata": {},
   "source": [
    "### Titel bereinigen"
   ]
  },
  {
   "cell_type": "code",
   "execution_count": 121,
   "metadata": {},
   "outputs": [],
   "source": [
    "# Extrahiere das Erscheinungsjahr aus dem Titel und füge es als neue Spalte hinzu\n",
    "movies['year'] = movies['title'].str.extract(r'\\((\\d{4})\\)')\n",
    "\n",
    "# Entferne das Erscheinungsjahr aus dem Titel\n",
    "movies['title'] = movies['title'].str.replace(r'\\s*\\(\\d{4}\\)', '', regex=True)"
   ]
  },
  {
   "cell_type": "markdown",
   "metadata": {},
   "source": [
    "movies without year"
   ]
  },
  {
   "cell_type": "code",
   "execution_count": 122,
   "metadata": {},
   "outputs": [
    {
     "name": "stdout",
     "output_type": "stream",
     "text": [
      "the number of movies without year is:  410\n",
      "the number of movies without year is:  83\n",
      "   movieId                        title  \\\n",
      "0        1                    Toy Story   \n",
      "1        2                      Jumanji   \n",
      "2        3             Grumpier Old Men   \n",
      "3        4            Waiting to Exhale   \n",
      "4        5  Father of the Bride Part II   \n",
      "\n",
      "                                        genres  year  \n",
      "0  Adventure|Animation|Children|Comedy|Fantasy  1995  \n",
      "1                   Adventure|Children|Fantasy  1995  \n",
      "2                               Comedy|Romance  1995  \n",
      "3                         Comedy|Drama|Romance  1995  \n",
      "4                                       Comedy  1995  \n"
     ]
    }
   ],
   "source": [
    "# Filme ohne Erscheinungsjahr ausgeben\n",
    "movies_without_year = movies[movies['year'].isna()]\n",
    "print(\"the number of movies without year is: \", movies['year'].isna().sum())\n",
    "\n",
    "# Füge die fehlenden Jahre aus der neuen CSV-Datei ein, basierend auf den Titeln\n",
    "movies['year'] = movies.apply(\n",
    "    lambda row: movies_with_year[movies_with_year['title'] == row['title']]['year'].values[0]\n",
    "    if pd.isnull(row['year']) and row['title'] in movies_with_year ['title'].values\n",
    "    else row['year'],\n",
    "    axis=1\n",
    ")\n",
    "\n",
    "# Filme ohne Erscheinungsjahr ausgeben\n",
    "movies_without_year1 = movies[movies['year'].isna()]\n",
    "print(\"the number of movies without year is: \", movies['year'].isna().sum())\n",
    "\n",
    "# Entferne Filme ohne Erscheinungsjahr\n",
    "movies = movies.dropna(subset=['year'])\n",
    "movies.isnull().sum()\n",
    "\n",
    "print(movies.head(5))"
   ]
  },
  {
   "cell_type": "markdown",
   "metadata": {},
   "source": [
    "### Genres aufbereiten\n"
   ]
  },
  {
   "cell_type": "code",
   "execution_count": 123,
   "metadata": {},
   "outputs": [
    {
     "name": "stdout",
     "output_type": "stream",
     "text": [
      "Anzahl der Filme mit '(no genres listed)': 5002\n",
      "Anzahl der Filme mit '(no genres listed)': 1257\n",
      "   movieId      title  year  Documentary  Action  Romance  Sport  Film-Noir  \\\n",
      "0        1  Toy Story  1995            0       0        0      0          0   \n",
      "1        2    Jumanji  1995            0       0        0      0          0   \n",
      "\n",
      "   Adventure  IMAX  ...  Fantasy  Drama  News  Game-Show  Thriller  Biography  \\\n",
      "0          1     0  ...        1      0     0          0         0          0   \n",
      "1          1     0  ...        1      0     0          0         0          0   \n",
      "\n",
      "   Reality-TV  Musical  Crime  Western  \n",
      "0           0        0      0        0  \n",
      "1           0        0      0        0  \n",
      "\n",
      "[2 rows x 32 columns]\n"
     ]
    }
   ],
   "source": [
    "# Filme ohne Genre ausgeben\n",
    "print(\"Anzahl der Filme mit '(no genres listed)':\", movies[movies['genres'] == '(no genres listed)'].shape[0])\n",
    "\n",
    "# Zusammenführen der DataFrames basierend auf den Titeln und Jahren\n",
    "movies_updated = pd.merge(movies, movies_with_genres[['title', 'year', 'genres']], on=['title', 'year'], how='left', suffixes=('', '_new'))\n",
    "\n",
    "# Aktualisieren der Genres im movies DataFrame nur für die übereinstimmenden Einträge\n",
    "movies_updated['genres'] = movies_updated['genres_new'].combine_first(movies_updated['genres'])\n",
    "\n",
    "# Entferne die temporäre Spalte\n",
    "movies_updated = movies_updated.drop(columns=['genres_new'])\n",
    "movies = movies_updated\n",
    "\n",
    "# Filme ohne Genre ausgeben\n",
    "print(\"Anzahl der Filme mit '(no genres listed)':\", movies[movies['genres'] == '(no genres listed)'].shape[0])\n",
    "\n",
    "# Entferne \"(no genres listed)\" aus der Genre-Liste\n",
    "movies['genres'] = movies['genres'].replace('(no genres listed)', '')\n",
    "\n",
    "# Trenne die Genres in separate Listen\n",
    "genre_list = movies['genres'].str.split('|')\n",
    "\n",
    "# Finde alle einzigartigen Genres\n",
    "all_genres = set(genre for sublist in genre_list for genre in sublist if genre)\n",
    "\n",
    "# Erstelle für jedes Genre eine Spalte und fülle sie mit binären Werten\n",
    "for genre in all_genres:\n",
    "    movies[genre] = movies['genres'].apply(lambda x: int(genre in x.split('|')))\n",
    "\n",
    "# Entferne die ursprüngliche 'genres' Spalte\n",
    "movies = movies.drop(columns=['genres'])\n",
    "\n",
    "print(movies.head(2))"
   ]
  },
  {
   "cell_type": "markdown",
   "metadata": {},
   "source": [
    "### Nach Null-Werten suchen"
   ]
  },
  {
   "cell_type": "code",
   "execution_count": 124,
   "metadata": {},
   "outputs": [
    {
     "name": "stdout",
     "output_type": "stream",
     "text": [
      "<class 'pandas.core.frame.DataFrame'>\n",
      "RangeIndex: 62340 entries, 0 to 62339\n",
      "Data columns (total 32 columns):\n",
      " #   Column       Non-Null Count  Dtype \n",
      "---  ------       --------------  ----- \n",
      " 0   movieId      62340 non-null  int64 \n",
      " 1   title        62340 non-null  object\n",
      " 2   year         62340 non-null  object\n",
      " 3   Documentary  62340 non-null  int64 \n",
      " 4   Action       62340 non-null  int64 \n",
      " 5   Romance      62340 non-null  int64 \n",
      " 6   Sport        62340 non-null  int64 \n",
      " 7   Film-Noir    62340 non-null  int64 \n",
      " 8   Adventure    62340 non-null  int64 \n",
      " 9   IMAX         62340 non-null  int64 \n",
      " 10  Music        62340 non-null  int64 \n",
      " 11  Animation    62340 non-null  int64 \n",
      " 12  Comedy       62340 non-null  int64 \n",
      " 13  Family       62340 non-null  int64 \n",
      " 14  Children     62340 non-null  int64 \n",
      " 15  Sci-Fi       62340 non-null  int64 \n",
      " 16  Short        62340 non-null  int64 \n",
      " 17  War          62340 non-null  int64 \n",
      " 18  Mystery      62340 non-null  int64 \n",
      " 19  Adult        62340 non-null  int64 \n",
      " 20  History      62340 non-null  int64 \n",
      " 21  Horror       62340 non-null  int64 \n",
      " 22  Fantasy      62340 non-null  int64 \n",
      " 23  Drama        62340 non-null  int64 \n",
      " 24  News         62340 non-null  int64 \n",
      " 25  Game-Show    62340 non-null  int64 \n",
      " 26  Thriller     62340 non-null  int64 \n",
      " 27  Biography    62340 non-null  int64 \n",
      " 28  Reality-TV   62340 non-null  int64 \n",
      " 29  Musical      62340 non-null  int64 \n",
      " 30  Crime        62340 non-null  int64 \n",
      " 31  Western      62340 non-null  int64 \n",
      "dtypes: int64(30), object(2)\n",
      "memory usage: 15.2+ MB\n"
     ]
    },
    {
     "data": {
      "text/plain": [
       "movieId        0\n",
       "title          0\n",
       "year           0\n",
       "Documentary    0\n",
       "Action         0\n",
       "Romance        0\n",
       "Sport          0\n",
       "Film-Noir      0\n",
       "Adventure      0\n",
       "IMAX           0\n",
       "Music          0\n",
       "Animation      0\n",
       "Comedy         0\n",
       "Family         0\n",
       "Children       0\n",
       "Sci-Fi         0\n",
       "Short          0\n",
       "War            0\n",
       "Mystery        0\n",
       "Adult          0\n",
       "History        0\n",
       "Horror         0\n",
       "Fantasy        0\n",
       "Drama          0\n",
       "News           0\n",
       "Game-Show      0\n",
       "Thriller       0\n",
       "Biography      0\n",
       "Reality-TV     0\n",
       "Musical        0\n",
       "Crime          0\n",
       "Western        0\n",
       "dtype: int64"
      ]
     },
     "execution_count": 124,
     "metadata": {},
     "output_type": "execute_result"
    }
   ],
   "source": [
    "movies.info()\n",
    "movies.isnull().sum()"
   ]
  },
  {
   "cell_type": "markdown",
   "metadata": {},
   "source": [
    "### Map user input to get movieId"
   ]
  },
  {
   "cell_type": "code",
   "execution_count": 125,
   "metadata": {},
   "outputs": [],
   "source": [
    "# Normalisiere die Titel-Spalte: leerzeichen entfernen, kleinbuchstaben, führende Artikel entfernen und ans Ende verschieben\n",
    "\n",
    "def normalize_title(title):\n",
    "    articles = ['the', 'a', 'an']\n",
    "    words = title.strip().split()\n",
    "    if words[-1].strip(\",\").lower() in articles:\n",
    "        return title.strip().lower()\n",
    "    if words[0].lower() in articles:\n",
    "        return ', '.join(words[1:]) + ', ' + words[0].capitalize()\n",
    "    return title.lower()\n",
    "\n",
    "def alternate_title_format(title):\n",
    "    articles = ['the', 'a', 'an']\n",
    "    words = title.strip().split()\n",
    "    if words[0].lower() in articles:\n",
    "        return ', '.join(words[1:]) + ', ' + words[0].capitalize()\n",
    "    if words[-1].strip(\",\").lower() in articles:\n",
    "        return words[-1].capitalize() + ' ' + ' '.join(words[:-1]).replace(',', '')\n",
    "    return title.lower()\n",
    "\n",
    "# Funktion zur Zuordnung der IDs\n",
    "def map_movie_ids(movies_df, user_ratings_input, cinema_movies_input):\n",
    "    # Normalisieren der Titelspalte des DataFrames\n",
    "    movies_df['normalized_title'] = movies_df['title'].apply(normalize_title)\n",
    "    movies_df['alternate_title'] = movies_df['title'].apply(alternate_title_format)\n",
    "\n",
    "    def get_movie_id(title, year):\n",
    "        normalized_title = normalize_title(title)\n",
    "        alternate_title = alternate_title_format(title)\n",
    "        \n",
    "        filtered_movies = movies_df[((movies_df['normalized_title'] == normalized_title) | (movies_df['alternate_title'] == alternate_title)) & (movies_df['year'] == str(year))]\n",
    "        if not filtered_movies.empty:\n",
    "            return filtered_movies.iloc[0]['movieId']\n",
    "        else:\n",
    "            print(f\"{title} ({year}) not found\")\n",
    "            return None\n",
    "\n",
    "    # IDs zu den Filmen im user_ratings_input Array hinzufügen\n",
    "    mapped_user_ratings = []\n",
    "    for rating in user_ratings_input:\n",
    "        movie_id = get_movie_id(rating['title'], rating['year'])\n",
    "        mapped_user_ratings.append({**rating, 'movieId': movie_id})\n",
    "    \n",
    "    # IDs zu den Filmen im cinema_movies_input Array hinzufügen\n",
    "    mapped_cinema_movies = []\n",
    "    for movie in cinema_movies_input:\n",
    "        movie_id = get_movie_id(movie['title'], movie['year'])\n",
    "        mapped_cinema_movies.append({**movie, 'movieId': movie_id})\n",
    "    \n",
    "    return mapped_user_ratings, mapped_cinema_movies"
   ]
  },
  {
   "cell_type": "markdown",
   "metadata": {},
   "source": [
    "### Feature Set: Genre"
   ]
  },
  {
   "cell_type": "code",
   "execution_count": 126,
   "metadata": {},
   "outputs": [],
   "source": [
    "# Funktion zur Extraktion von Filmmerkmalen\n",
    "def get_movie_features(movies, movie_id):\n",
    "    filtered_movie = movies[movies['movieId'] == movie_id]\n",
    "    if not filtered_movie.empty:\n",
    "        # Wähle nur die numerischen Spalten aus, die für die Berechnung der Ähnlichkeiten verwendet werden sollen, außer 'movieId'\n",
    "        numeric_features = filtered_movie.drop(columns=['movieId']).select_dtypes(include=[np.number])\n",
    "        return numeric_features.iloc[0]\n",
    "    else:\n",
    "        print(f\"Movie with ID {movie_id} not found\")\n",
    "        return None\n",
    "\n",
    "# Funktion zur Empfehlung von Filmen\n",
    "def recommend_movies(user_ratings_input, cinema_movies_input):\n",
    "    \n",
    "    # Schritt 1: Extrahieren der Merkmale der vom Nutzer bewerteten Filme\n",
    "    user_movie_features = []\n",
    "    has_positive_ratings = any('rating' in movie and movie['rating'] >= 2.5 for movie in user_ratings_input)\n",
    "\n",
    "    for movie in user_ratings_input:\n",
    "        if has_positive_ratings and movie.get('rating', 0) >= 2.5:\n",
    "            features = get_movie_features(movies, movie['movieId'])\n",
    "            if features is not None:\n",
    "                user_movie_features.append(features.values)\n",
    "        elif not has_positive_ratings and movie.get('rating', 0) < 2.5:\n",
    "            features = get_movie_features(movies, movie['movieId'])\n",
    "            if features is not None:\n",
    "                user_movie_features.append(features.values)\n",
    "    \n",
    "    # Schritt 2: Feature-Vektorisierung\n",
    "    if not user_movie_features:\n",
    "        raise ValueError(\"Keine positiv bewerteten Filme vorhanden.\")\n",
    "    \n",
    "    user_profile = np.mean(user_movie_features, axis=0)\n",
    "    \n",
    "    # Schritt 3: Ähnlichkeitsberechnung\n",
    "    kino_movie_features = []\n",
    "    for kino_movie in cinema_movies_input:\n",
    "        features = get_movie_features(movies, kino_movie['movieId'])\n",
    "        if features is not None:\n",
    "            kino_movie_features.append(features.values)\n",
    "    \n",
    "    if not kino_movie_features:\n",
    "        raise ValueError(\"Keine Kino-Filme mit passenden Features gefunden.\")\n",
    "    \n",
    "    similarities = cosine_similarity([user_profile], kino_movie_features)[0]\n",
    "    similarities = similarities * 100\n",
    "    \n",
    "    # Schritt 4: Sortierung und Ausgabe\n",
    "    # Falls der Nutzer positive Bewertungen abgegeben hat, sortiere nach absteigender Ähnlichkeit\n",
    "    # Andernfalls sortiere nach aufsteigender Ähnlichkeit\n",
    "    cinema_movies_with_similarity = []\n",
    "    for i, kino_movie in enumerate(cinema_movies_input):\n",
    "        kino_movie_with_similarity = {\n",
    "            \"externalId\": kino_movie['externalId'],\n",
    "            \"movieTitle\": kino_movie['title'],\n",
    "            \"year\": kino_movie['year'],\n",
    "            \"score\": similarities[i]\n",
    "        }\n",
    "        cinema_movies_with_similarity.append(kino_movie_with_similarity)\n",
    "    \n",
    "    if has_positive_ratings:\n",
    "        sorted_cinema_movies = sorted(cinema_movies_with_similarity, key=lambda x: x['score'], reverse=True)\n",
    "    else:\n",
    "        sorted_cinema_movies = sorted(cinema_movies_with_similarity, key=lambda x: x['score'])\n",
    "    \n",
    "    return sorted_cinema_movies"
   ]
  },
  {
   "cell_type": "markdown",
   "metadata": {},
   "source": [
    "### Test"
   ]
  },
  {
   "cell_type": "code",
   "execution_count": 127,
   "metadata": {},
   "outputs": [
    {
     "name": "stdout",
     "output_type": "stream",
     "text": [
      "External ID: 4, Title: Black Panther, Year: 2017, Score: 57.74\n",
      "External ID: 5, Title: Avengers: Infinity War - Part I, Year: 2018, Score: 57.74\n",
      "External ID: 8, Title: Deadpool 2, Year: 2018, Score: 57.74\n",
      "External ID: 11, Title: Mission: Impossible - Fallout, Year: 2018, Score: 57.74\n",
      "External ID: 9, Title: Spider-Man: Into the Spider-Verse, Year: 2018, Score: 50.00\n",
      "External ID: 10, Title: Crazy Rich Asians, Year: 2018, Score: 50.00\n",
      "External ID: 12, Title: Solo: A Star Wars Story, Year: 2018, Score: 50.00\n",
      "External ID: 16, Title: Jurassic World: Fallen Kingdom, Year: 2018, Score: 44.72\n",
      "External ID: 13, Title: Aquaman, Year: 2018, Score: 28.87\n",
      "External ID: 15, Title: Ready Player One, Year: 2018, Score: 28.87\n",
      "External ID: 14, Title: The Meg, Year: 2018, Score: 25.00\n",
      "External ID: 6, Title: A Star Is Born, Year: 2018, Score: 0.00\n",
      "External ID: 7, Title: Bohemian Rhapsody, Year: 2018, Score: 0.00\n"
     ]
    }
   ],
   "source": [
    "# Beispiel-Daten\n",
    "user_rated_movies = [\n",
    "    {\"externalId\": \"1\", \"title\": \"Emil and the Detectives\", \"year\": 1964, \"rating\": 4.5},\n",
    "    {\"externalId\": \"2\", \"title\": \"Pride and Prejudice\", \"year\": 2003, \"rating\": 1.5},\n",
    "    {\"externalId\": \"3\", \"title\": \"La La Land\", \"year\": 2016, \"rating\": 2.0}\n",
    "]\n",
    "cinema_movies = [\n",
    "    {\"externalId\": \"4\", \"title\": \"Black Panther\", \"year\": 2017},\n",
    "    {\"externalId\": \"5\", \"title\": \"Avengers: Infinity War - Part I\", \"year\": 2018},\n",
    "    {\"externalId\": \"6\", \"title\": \"A Star Is Born\", \"year\": 2018},\n",
    "    {\"externalId\": \"7\", \"title\": \"Bohemian Rhapsody\", \"year\": 2018},\n",
    "    {\"externalId\": \"8\", \"title\": \"Deadpool 2\", \"year\": 2018},\n",
    "    {\"externalId\": \"9\", \"title\": \"Spider-Man: Into the Spider-Verse\", \"year\": 2018},\n",
    "    {\"externalId\": \"10\", \"title\": \"Crazy Rich Asians\", \"year\": 2018},\n",
    "    {\"externalId\": \"11\", \"title\": \"Mission: Impossible - Fallout\", \"year\": 2018},\n",
    "    {\"externalId\": \"12\", \"title\": \"Solo: A Star Wars Story\", \"year\": 2018},\n",
    "    {\"externalId\": \"13\", \"title\": \"Aquaman\", \"year\": 2018},\n",
    "    {\"externalId\": \"14\", \"title\": \"The Meg\", \"year\": 2018},\n",
    "    {\"externalId\": \"15\", \"title\": \"Ready Player One\", \"year\": 2018},\n",
    "    {\"externalId\": \"16\", \"title\": \"Jurassic World: Fallen Kingdom\", \"year\": 2018}\n",
    "]\n",
    "\n",
    "# Map IDs\n",
    "mapped_user_ratings, mapped_movies  = map_movie_ids(movies, user_rated_movies, cinema_movies)\n",
    "# print(\"Mapped Movies:\", mapped_movies)\n",
    "# print(\"Mapped User Ratings:\", mapped_user_ratings)\n",
    "# Funktion aufrufen\n",
    "recommended_cinema_movies = recommend_movies(mapped_user_ratings, mapped_movies)\n",
    "for movie in recommended_cinema_movies:\n",
    "    print(f\"External ID: {movie['externalId']}, Title: {movie['movieTitle']}, Year: {movie['year']}, Score: {movie['score']:.2f}\")"
   ]
  },
  {
   "cell_type": "markdown",
   "metadata": {},
   "source": [
    "### Evaluate Content-Based Filtering"
   ]
  },
  {
   "cell_type": "code",
   "execution_count": 128,
   "metadata": {},
   "outputs": [
    {
     "name": "stdout",
     "output_type": "stream",
     "text": [
      "Trainingsdaten: (20000076, 4)\n",
      "Testdaten: (5000019, 4)\n"
     ]
    }
   ],
   "source": [
    "# Laden der Ratings-Daten\n",
    "ratings = pd.read_csv('../data/ml-25m/ratings.csv')\n",
    "\n",
    "# Splitten der Daten in Trainings- und Testdatensets\n",
    "train_ratings, test_ratings = train_test_split(ratings, test_size=0.2, random_state=42)\n",
    "\n",
    "# Überprüfen der Splits\n",
    "print(f\"Trainingsdaten: {train_ratings.shape}\")\n",
    "print(f\"Testdaten: {test_ratings.shape}\")"
   ]
  },
  {
   "cell_type": "code",
   "execution_count": 129,
   "metadata": {},
   "outputs": [],
   "source": [
    "def plot_genre_correlation_matrix(movies):\n",
    "    # Extrahiere alle Spaltennamen, die Genres darstellen\n",
    "    genre_features = [col for col in movies.columns if col not in ['movieId', 'title', 'year', 'normalized_title', 'alternate_title'] and movies[col].dtype in [np.int64, np.int32]]\n",
    "    \n",
    "    # Berechne die Korrelationsmatrix für die Genres\n",
    "    correlation_matrix = movies[genre_features].corr()\n",
    "    \n",
    "    # Plotten der Korrelationsmatrix ohne Zahlen\n",
    "    sns.heatmap(correlation_matrix, annot=False, cmap='coolwarm', center=0)\n",
    "    plt.title('Correlation Matrix for Genres')\n",
    "    plt.show()"
   ]
  },
  {
   "cell_type": "code",
   "execution_count": 130,
   "metadata": {},
   "outputs": [],
   "source": [
    "def get_user_ratings(train_ratings, test_ratings):\n",
    "    # Einen zufälligen Benutzer aus dem Trainingsset auswählen\n",
    "    random_user_id = train_ratings['userId'].sample(1).iloc[0]\n",
    "\n",
    "    # Alle Bewertungen dieses Benutzers aus dem Trainings- und Testdatenset extrahieren\n",
    "    user_train_ratings = train_ratings[train_ratings['userId'] == random_user_id]\n",
    "    user_test_ratings = test_ratings[test_ratings['userId'] == random_user_id]\n",
    "\n",
    "    # Extrahiere die Filme und die tatsächlichen Bewertungen aus dem Testdatenset\n",
    "    test_movies = []\n",
    "    actual_ratings = []\n",
    "    for idx, row in user_test_ratings.iterrows():\n",
    "        movie_id = row['movieId']\n",
    "        actual_rating = row['rating']\n",
    "        test_movies.append(movie_id)\n",
    "        actual_ratings.append({\"movieId\": movie_id, \"actual_rating\": actual_rating})\n",
    "\n",
    "    return random_user_id, user_train_ratings, test_movies, actual_ratings"
   ]
  },
  {
   "cell_type": "code",
   "execution_count": 131,
   "metadata": {},
   "outputs": [],
   "source": [
    "def predict_rating(random_user_id, user_train_ratings, test_movies, actual_ratings, movies):\n",
    "    # Formatieren der Trainingsbewertungen für die Empfehlung\n",
    "    user_rated_movies_formatted = []\n",
    "    for idx, row in user_train_ratings.iterrows():\n",
    "        movie = movies[movies['movieId'] == row['movieId']]\n",
    "        if not movie.empty:\n",
    "            try:\n",
    "                user_rated_movies_formatted.append({\n",
    "                    \"externalId\": idx,\n",
    "                    \"title\": movie.iloc[0]['title'],\n",
    "                    \"year\": int(movie.iloc[0]['year']),\n",
    "                    \"rating\": row['rating']\n",
    "                })\n",
    "            except ValueError:\n",
    "                print(f\"Skipping movie with invalid year: {movie.iloc[0]['title']} ({movie.iloc[0]['year']})\")\n",
    "\n",
    "    # Formatieren der Testfilme für die Empfehlung\n",
    "    test_movies_formatted = []\n",
    "    for movie_id in test_movies:\n",
    "        movie = movies[movies['movieId'] == movie_id]\n",
    "        if not movie.empty:\n",
    "            try:\n",
    "                test_movies_formatted.append({\n",
    "                    \"externalId\": movie_id,\n",
    "                    \"title\": movie.iloc[0]['title'],\n",
    "                    \"year\": int(movie.iloc[0]['year'])\n",
    "                })\n",
    "            except ValueError:\n",
    "                print(f\"Skipping movie with invalid year: {movie.iloc[0]['title']} ({movie.iloc[0]['year']})\")\n",
    "\n",
    "    # Verwenden der vorhandenen Mapping-Funktion, um IDs zuzuordnen\n",
    "    if not user_rated_movies_formatted or not test_movies_formatted:\n",
    "        return []\n",
    "\n",
    "    mapped_user_ratings, mapped_test_movies = map_movie_ids(movies, user_rated_movies_formatted, test_movies_formatted)\n",
    "\n",
    "    # Vorhersage der Bewertungen\n",
    "    recommended_movies = recommend_movies(mapped_user_ratings, mapped_test_movies)\n",
    "    \n",
    "    # Ergebnisliste\n",
    "    results = []\n",
    "    for idx, movie in enumerate(recommended_movies):\n",
    "        predicted_score = movie['score'] / 20  # Konvertiere den Score von 0-100 auf 0-5\n",
    "        actual_rating = next((item['actual_rating'] for item in actual_ratings if item['movieId'] == movie['externalId']), None)\n",
    "        results.append({\"userId\": random_user_id, \"movieId\": movie['externalId'], \"actual_rating\": actual_rating, \"predicted_rating\": predicted_score})\n",
    "\n",
    "    return results"
   ]
  },
  {
   "cell_type": "code",
   "execution_count": 132,
   "metadata": {},
   "outputs": [
    {
     "name": "stderr",
     "output_type": "stream",
     "text": [
      "Processing users:  24%|██▍       | 24/100 [04:30<08:45,  6.92s/it]"
     ]
    },
    {
     "name": "stdout",
     "output_type": "stream",
     "text": [
      "Skipping movie with invalid year: Salad Fingers (2004–)\n"
     ]
    },
    {
     "name": "stderr",
     "output_type": "stream",
     "text": [
      "Processing users: 100%|██████████| 100/100 [17:42<00:00, 10.62s/it]\n"
     ]
    },
    {
     "name": "stdout",
     "output_type": "stream",
     "text": [
      "Vorhersagen für 100 Benutzer gespeichert in 'predicted_ratings_multiple_users.csv'\n",
      "RMSE: 1.5133792978924716\n",
      "MAE: 1.2148965541849146\n",
      "MAPE: 46.24374719214547%\n"
     ]
    },
    {
     "data": {
      "image/png": "[encoded data removed]",
      "text/plain": [
       "<Figure size 640x480 with 2 Axes>"
      ]
     },
     "metadata": {},
     "output_type": "display_data"
    }
   ],
   "source": [
    "def predict_ratings_for_multiple_users(ratings, movies, num_users=10):\n",
    "    all_results = []\n",
    "\n",
    "    # Führe den train_test_split einmal durch\n",
    "    train_ratings, test_ratings = train_test_split(ratings, test_size=0.2, random_state=42)\n",
    "\n",
    "    for _ in tqdm(range(num_users), desc=\"Processing users\"):\n",
    "        random_user_id, user_train_ratings, test_movies, actual_ratings = get_user_ratings(train_ratings, test_ratings)\n",
    "        results = predict_rating(random_user_id, user_train_ratings, test_movies, actual_ratings, movies)\n",
    "        all_results.extend(results)\n",
    "\n",
    "    all_results_df = pd.DataFrame(all_results)\n",
    "    all_results_df.to_csv('predicted_ratings_multiple_users.csv', index=False)\n",
    "\n",
    "    actuals = all_results_df['actual_rating'].tolist()\n",
    "    predictions = all_results_df['predicted_rating'].tolist()\n",
    "    rmse = np.sqrt(mean_squared_error(actuals, predictions))\n",
    "    mae = mean_absolute_error(actuals, predictions)\n",
    "    mape = np.mean(np.abs((np.array(actuals) - np.array(predictions)) / np.array(actuals))) * 100\n",
    "\n",
    "    print(f\"Vorhersagen für {num_users} Benutzer gespeichert in 'predicted_ratings_multiple_users.csv'\")\n",
    "    print(f\"RMSE: {rmse}\")\n",
    "    print(f\"MAE: {mae}\")\n",
    "    print(f\"MAPE: {mape}%\")\n",
    "\n",
    "    # Plot the genre correlation matrix\n",
    "    plot_genre_correlation_matrix(movies)\n",
    "\n",
    "# Beispielaufruf\n",
    "predict_ratings_for_multiple_users(ratings, movies, num_users=100)\n"
   ]
  }
 ],
 "metadata": {
  "kernelspec": {
   "display_name": "Python 3",
   "language": "python",
   "name": "python3"
  },
  "language_info": {
   "codemirror_mode": {
    "name": "ipython",
    "version": 3
   },
   "file_extension": ".py",
   "mimetype": "text/x-python",
   "name": "python",
   "nbconvert_exporter": "python",
   "pygments_lexer": "ipython3",
   "version": "3.12.4"
  }
 },
 "nbformat": 4,
 "nbformat_minor": 2
}
