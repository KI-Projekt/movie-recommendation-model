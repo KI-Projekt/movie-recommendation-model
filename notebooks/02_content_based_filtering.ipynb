{
 "cells": [
  {
   "cell_type": "markdown",
   "metadata": {},
   "source": [
    "# Content-based Filtering\n",
    "\n",
    "### Loading Libraries"
   ]
  },
  {
   "cell_type": "code",
   "execution_count": 245,
   "metadata": {},
   "outputs": [],
   "source": [
    "import pandas as pd\n",
    "from sklearn.metrics.pairwise import cosine_similarity\n",
    "import warnings\n",
    "import numpy as np\n",
    "warnings.filterwarnings('ignore')"
   ]
  },
  {
   "cell_type": "markdown",
   "metadata": {},
   "source": [
    "### Loading Datasets"
   ]
  },
  {
   "cell_type": "code",
   "execution_count": 246,
   "metadata": {},
   "outputs": [
    {
     "name": "stdout",
     "output_type": "stream",
     "text": [
      "Index(['movieId', 'title', 'genres'], dtype='object')\n"
     ]
    }
   ],
   "source": [
    "movies = pd.read_csv('../data/ml-25m/movies.csv')\n",
    "movies_with_genres = pd.read_csv('../data/movies_with_genres.csv')\n",
    "movies_with_year = pd.read_csv('../data/movies_with_year.csv', sep=';')\n",
    "print(movies.columns)"
   ]
  },
  {
   "cell_type": "markdown",
   "metadata": {},
   "source": [
    "### Titel bereinigen"
   ]
  },
  {
   "cell_type": "code",
   "execution_count": 247,
   "metadata": {},
   "outputs": [],
   "source": [
    "# Extrahiere das Erscheinungsjahr aus dem Titel und füge es als neue Spalte hinzu\n",
    "movies['year'] = movies['title'].str.extract(r'\\((\\d{4})\\)')\n",
    "\n",
    "# Entferne das Erscheinungsjahr aus dem Titel\n",
    "movies['title'] = movies['title'].str.replace(r'\\s*\\(\\d{4}\\)', '', regex=True)"
   ]
  },
  {
   "cell_type": "markdown",
   "metadata": {},
   "source": [
    "movies without year"
   ]
  },
  {
   "cell_type": "code",
   "execution_count": 248,
   "metadata": {},
   "outputs": [
    {
     "name": "stdout",
     "output_type": "stream",
     "text": [
      "the number of movies without year is:  410\n",
      "the number of movies without year is:  83\n",
      "   movieId                        title  \\\n",
      "0        1                    Toy Story   \n",
      "1        2                      Jumanji   \n",
      "2        3             Grumpier Old Men   \n",
      "3        4            Waiting to Exhale   \n",
      "4        5  Father of the Bride Part II   \n",
      "\n",
      "                                        genres  year  \n",
      "0  Adventure|Animation|Children|Comedy|Fantasy  1995  \n",
      "1                   Adventure|Children|Fantasy  1995  \n",
      "2                               Comedy|Romance  1995  \n",
      "3                         Comedy|Drama|Romance  1995  \n",
      "4                                       Comedy  1995  \n"
     ]
    }
   ],
   "source": [
    "# Filme ohne Erscheinungsjahr ausgeben\n",
    "movies_without_year = movies[movies['year'].isna()]\n",
    "print(\"the number of movies without year is: \", movies['year'].isna().sum())\n",
    "\n",
    "# Füge die fehlenden Jahre aus der neuen CSV-Datei ein, basierend auf den Titeln\n",
    "movies['year'] = movies.apply(\n",
    "    lambda row: movies_with_year[movies_with_year['title'] == row['title']]['year'].values[0]\n",
    "    if pd.isnull(row['year']) and row['title'] in movies_with_year ['title'].values\n",
    "    else row['year'],\n",
    "    axis=1\n",
    ")\n",
    "\n",
    "# Filme ohne Erscheinungsjahr ausgeben\n",
    "movies_without_year1 = movies[movies['year'].isna()]\n",
    "print(\"the number of movies without year is: \", movies['year'].isna().sum())\n",
    "\n",
    "# Entferne Filme ohne Erscheinungsjahr\n",
    "movies = movies.dropna(subset=['year'])\n",
    "movies.isnull().sum()\n",
    "\n",
    "print(movies.head(5))"
   ]
  },
  {
   "cell_type": "markdown",
   "metadata": {},
   "source": [
    "### Genres aufbereiten\n"
   ]
  },
  {
   "cell_type": "code",
   "execution_count": 249,
   "metadata": {},
   "outputs": [
    {
     "name": "stdout",
     "output_type": "stream",
     "text": [
      "Anzahl der Filme mit '(no genres listed)': 5002\n",
      "Anzahl der Filme mit '(no genres listed)': 1257\n",
      "   movieId      title  year  Horror  Thriller  History  Romance  Adult  \\\n",
      "0        1  Toy Story  1995       0         0        0        0      0   \n",
      "1        2    Jumanji  1995       0         0        0        0      0   \n",
      "\n",
      "   Documentary  Musical  ...  Fantasy  War  Game-Show  Biography  Action  \\\n",
      "0            0        0  ...        1    0          0          0       0   \n",
      "1            0        0  ...        1    0          0          0       0   \n",
      "\n",
      "   Sport  Comedy  Animation  Family  IMAX  \n",
      "0      0       1          1       0     0  \n",
      "1      0       0          0       0     0  \n",
      "\n",
      "[2 rows x 32 columns]\n"
     ]
    }
   ],
   "source": [
    "# Filme ohne Genre ausgeben\n",
    "print(\"Anzahl der Filme mit '(no genres listed)':\", movies[movies['genres'] == '(no genres listed)'].shape[0])\n",
    "\n",
    "# Zusammenführen der DataFrames basierend auf den Titeln und Jahren\n",
    "movies_updated = pd.merge(movies, movies_with_genres[['title', 'year', 'genres']], on=['title', 'year'], how='left', suffixes=('', '_new'))\n",
    "\n",
    "# Aktualisieren der Genres im movies DataFrame nur für die übereinstimmenden Einträge\n",
    "movies_updated['genres'] = movies_updated['genres_new'].combine_first(movies_updated['genres'])\n",
    "\n",
    "# Entferne die temporäre Spalte\n",
    "movies_updated = movies_updated.drop(columns=['genres_new'])\n",
    "movies = movies_updated\n",
    "\n",
    "# Filme ohne Genre ausgeben\n",
    "print(\"Anzahl der Filme mit '(no genres listed)':\", movies[movies['genres'] == '(no genres listed)'].shape[0])\n",
    "\n",
    "# Entferne \"(no genres listed)\" aus der Genre-Liste\n",
    "movies['genres'] = movies['genres'].replace('(no genres listed)', '')\n",
    "\n",
    "# Trenne die Genres in separate Listen\n",
    "genre_list = movies['genres'].str.split('|')\n",
    "\n",
    "# Finde alle einzigartigen Genres\n",
    "all_genres = set(genre for sublist in genre_list for genre in sublist if genre)\n",
    "\n",
    "# Erstelle für jedes Genre eine Spalte und fülle sie mit binären Werten\n",
    "for genre in all_genres:\n",
    "    movies[genre] = movies['genres'].apply(lambda x: int(genre in x.split('|')))\n",
    "\n",
    "# Entferne die ursprüngliche 'genres' Spalte\n",
    "movies = movies.drop(columns=['genres'])\n",
    "\n",
    "print(movies.head(2))"
   ]
  },
  {
   "cell_type": "markdown",
   "metadata": {},
   "source": [
    "### Nach Null-Werten suchen"
   ]
  },
  {
   "cell_type": "code",
   "execution_count": 250,
   "metadata": {},
   "outputs": [
    {
     "name": "stdout",
     "output_type": "stream",
     "text": [
      "<class 'pandas.core.frame.DataFrame'>\n",
      "RangeIndex: 62340 entries, 0 to 62339\n",
      "Data columns (total 32 columns):\n",
      " #   Column       Non-Null Count  Dtype \n",
      "---  ------       --------------  ----- \n",
      " 0   movieId      62340 non-null  int64 \n",
      " 1   title        62340 non-null  object\n",
      " 2   year         62340 non-null  object\n",
      " 3   Horror       62340 non-null  int64 \n",
      " 4   Thriller     62340 non-null  int64 \n",
      " 5   History      62340 non-null  int64 \n",
      " 6   Romance      62340 non-null  int64 \n",
      " 7   Adult        62340 non-null  int64 \n",
      " 8   Documentary  62340 non-null  int64 \n",
      " 9   Musical      62340 non-null  int64 \n",
      " 10  Short        62340 non-null  int64 \n",
      " 11  Adventure    62340 non-null  int64 \n",
      " 12  Film-Noir    62340 non-null  int64 \n",
      " 13  Western      62340 non-null  int64 \n",
      " 14  Music        62340 non-null  int64 \n",
      " 15  Reality-TV   62340 non-null  int64 \n",
      " 16  Mystery      62340 non-null  int64 \n",
      " 17  Drama        62340 non-null  int64 \n",
      " 18  News         62340 non-null  int64 \n",
      " 19  Sci-Fi       62340 non-null  int64 \n",
      " 20  Crime        62340 non-null  int64 \n",
      " 21  Children     62340 non-null  int64 \n",
      " 22  Fantasy      62340 non-null  int64 \n",
      " 23  War          62340 non-null  int64 \n",
      " 24  Game-Show    62340 non-null  int64 \n",
      " 25  Biography    62340 non-null  int64 \n",
      " 26  Action       62340 non-null  int64 \n",
      " 27  Sport        62340 non-null  int64 \n",
      " 28  Comedy       62340 non-null  int64 \n",
      " 29  Animation    62340 non-null  int64 \n",
      " 30  Family       62340 non-null  int64 \n",
      " 31  IMAX         62340 non-null  int64 \n",
      "dtypes: int64(30), object(2)\n",
      "memory usage: 15.2+ MB\n"
     ]
    },
    {
     "data": {
      "text/plain": [
       "movieId        0\n",
       "title          0\n",
       "year           0\n",
       "Horror         0\n",
       "Thriller       0\n",
       "History        0\n",
       "Romance        0\n",
       "Adult          0\n",
       "Documentary    0\n",
       "Musical        0\n",
       "Short          0\n",
       "Adventure      0\n",
       "Film-Noir      0\n",
       "Western        0\n",
       "Music          0\n",
       "Reality-TV     0\n",
       "Mystery        0\n",
       "Drama          0\n",
       "News           0\n",
       "Sci-Fi         0\n",
       "Crime          0\n",
       "Children       0\n",
       "Fantasy        0\n",
       "War            0\n",
       "Game-Show      0\n",
       "Biography      0\n",
       "Action         0\n",
       "Sport          0\n",
       "Comedy         0\n",
       "Animation      0\n",
       "Family         0\n",
       "IMAX           0\n",
       "dtype: int64"
      ]
     },
     "execution_count": 250,
     "metadata": {},
     "output_type": "execute_result"
    }
   ],
   "source": [
    "movies.info()\n",
    "movies.isnull().sum()"
   ]
  },
  {
   "cell_type": "markdown",
   "metadata": {},
   "source": [
    "### Map user input to get movieId"
   ]
  },
  {
   "cell_type": "code",
   "execution_count": 251,
   "metadata": {},
   "outputs": [],
   "source": [
    "# Normalisiere die Titel-Spalte: leerzeichen entfernen, kleinbuchstaben, führende Artikel entfernen und ans Ende verschieben\n",
    "\n",
    "def normalize_title(title):\n",
    "    articles = ['the', 'a', 'an']\n",
    "    words = title.strip().split()\n",
    "    if words[-1].strip(\",\").lower() in articles:\n",
    "        return title.strip().lower()\n",
    "    if words[0].lower() in articles:\n",
    "        return ', '.join(words[1:]) + ', ' + words[0].capitalize()\n",
    "    return title.lower()\n",
    "\n",
    "def alternate_title_format(title):\n",
    "    articles = ['the', 'a', 'an']\n",
    "    words = title.strip().split()\n",
    "    if words[0].lower() in articles:\n",
    "        return ', '.join(words[1:]) + ', ' + words[0].capitalize()\n",
    "    if words[-1].strip(\",\").lower() in articles:\n",
    "        return words[-1].capitalize() + ' ' + ' '.join(words[:-1]).replace(',', '')\n",
    "    return title.lower()\n",
    "\n",
    "# Funktion zur Zuordnung der IDs\n",
    "def map_movie_ids(movies_df, user_ratings_input, cinema_movies_input):\n",
    "    # Normalisieren der Titelspalte des DataFrames\n",
    "    movies_df['normalized_title'] = movies_df['title'].apply(normalize_title)\n",
    "    movies_df['alternate_title'] = movies_df['title'].apply(alternate_title_format)\n",
    "\n",
    "    def get_movie_id(title, year):\n",
    "        normalized_title = normalize_title(title)\n",
    "        alternate_title = alternate_title_format(title)\n",
    "        \n",
    "        filtered_movies = movies_df[((movies_df['normalized_title'] == normalized_title) | (movies_df['alternate_title'] == alternate_title)) & (movies_df['year'] == str(year))]\n",
    "        if not filtered_movies.empty:\n",
    "            return filtered_movies.iloc[0]['movieId']\n",
    "        else:\n",
    "            print(f\"{title} ({year}) not found\")\n",
    "            return None\n",
    "\n",
    "    # IDs zu den Filmen im user_ratings_input Array hinzufügen\n",
    "    mapped_user_ratings = []\n",
    "    for rating in user_ratings_input:\n",
    "        movie_id = get_movie_id(rating['title'], rating['year'])\n",
    "        mapped_user_ratings.append({**rating, 'movieId': movie_id})\n",
    "    \n",
    "    # IDs zu den Filmen im cinema_movies_input Array hinzufügen\n",
    "    mapped_cinema_movies = []\n",
    "    for movie in cinema_movies_input:\n",
    "        movie_id = get_movie_id(movie['title'], movie['year'])\n",
    "        mapped_cinema_movies.append({**movie, 'movieId': movie_id})\n",
    "    \n",
    "    return mapped_user_ratings, mapped_cinema_movies"
   ]
  },
  {
   "cell_type": "markdown",
   "metadata": {},
   "source": [
    "### Feature Set: Genre"
   ]
  },
  {
   "cell_type": "code",
   "execution_count": 252,
   "metadata": {},
   "outputs": [],
   "source": [
    "# Funktion zur Extraktion von Filmmerkmalen\n",
    "def get_movie_features(movies, movie_id):\n",
    "    filtered_movie = movies[movies['movieId'] == movie_id]\n",
    "    if not filtered_movie.empty:\n",
    "        # Wähle nur die numerischen Spalten aus, die für die Berechnung der Ähnlichkeiten verwendet werden sollen, außer 'movieId'\n",
    "        numeric_features = filtered_movie.drop(columns=['movieId']).select_dtypes(include=[np.number])\n",
    "        return numeric_features.iloc[0]\n",
    "    else:\n",
    "        print(f\"Movie with ID {movie_id} not found\")\n",
    "        return None\n",
    "\n",
    "# Funktion zur Empfehlung von Filmen\n",
    "def recommend_movies(user_ratings_input, cinema_movies_input):\n",
    "    \n",
    "    # Schritt 1: Extrahieren der Merkmale der vom Nutzer bewerteten Filme\n",
    "    user_movie_features = []\n",
    "    has_positive_ratings = any('rating' in movie and movie['rating'] >= 2.5 for movie in user_ratings_input)\n",
    "\n",
    "    for movie in user_ratings_input:\n",
    "        if has_positive_ratings and movie.get('rating', 0) >= 2.5:\n",
    "            features = get_movie_features(movies, movie['movieId'])\n",
    "            if features is not None:\n",
    "                user_movie_features.append(features.values)\n",
    "        elif not has_positive_ratings and movie.get('rating', 0) < 2.5:\n",
    "            features = get_movie_features(movies, movie['movieId'])\n",
    "            if features is not None:\n",
    "                user_movie_features.append(features.values)\n",
    "    \n",
    "    # Schritt 2: Feature-Vektorisierung\n",
    "    if not user_movie_features:\n",
    "        raise ValueError(\"Keine positiv bewerteten Filme vorhanden.\")\n",
    "    \n",
    "    user_profile = np.mean(user_movie_features, axis=0)\n",
    "    \n",
    "    # Schritt 3: Ähnlichkeitsberechnung\n",
    "    kino_movie_features = []\n",
    "    for kino_movie in cinema_movies_input:\n",
    "        features = get_movie_features(movies, kino_movie['movieId'])\n",
    "        if features is not None:\n",
    "            kino_movie_features.append(features.values)\n",
    "    \n",
    "    if not kino_movie_features:\n",
    "        raise ValueError(\"Keine Kino-Filme mit passenden Features gefunden.\")\n",
    "    \n",
    "    similarities = cosine_similarity([user_profile], kino_movie_features)[0]\n",
    "    similarities = similarities * 100\n",
    "    \n",
    "    # Schritt 4: Sortierung und Ausgabe\n",
    "    # Falls der Nutzer positive Bewertungen abgegeben hat, sortiere nach absteigender Ähnlichkeit\n",
    "    # Andernfalls sortiere nach aufsteigender Ähnlichkeit\n",
    "    cinema_movies_with_similarity = []\n",
    "    for i, kino_movie in enumerate(cinema_movies_input):\n",
    "        kino_movie_with_similarity = {\n",
    "            \"externalId\": kino_movie['externalId'],\n",
    "            \"movieTitle\": kino_movie['title'],\n",
    "            \"year\": kino_movie['year'],\n",
    "            \"score\": similarities[i]\n",
    "        }\n",
    "        cinema_movies_with_similarity.append(kino_movie_with_similarity)\n",
    "    \n",
    "    if has_positive_ratings:\n",
    "        sorted_cinema_movies = sorted(cinema_movies_with_similarity, key=lambda x: x['score'], reverse=True)\n",
    "    else:\n",
    "        sorted_cinema_movies = sorted(cinema_movies_with_similarity, key=lambda x: x['score'])\n",
    "    \n",
    "    return sorted_cinema_movies"
   ]
  },
  {
   "cell_type": "markdown",
   "metadata": {},
   "source": [
    "### Test"
   ]
  },
  {
   "cell_type": "code",
   "execution_count": 253,
   "metadata": {},
   "outputs": [
    {
     "name": "stdout",
     "output_type": "stream",
     "text": [
      "External ID: 4, Title: Black Panther, Year: 2017, Score: 57.74\n",
      "External ID: 5, Title: Avengers: Infinity War - Part I, Year: 2018, Score: 57.74\n",
      "External ID: 8, Title: Deadpool 2, Year: 2018, Score: 57.74\n",
      "External ID: 11, Title: Mission: Impossible - Fallout, Year: 2018, Score: 57.74\n",
      "External ID: 9, Title: Spider-Man: Into the Spider-Verse, Year: 2018, Score: 50.00\n",
      "External ID: 10, Title: Crazy Rich Asians, Year: 2018, Score: 50.00\n",
      "External ID: 12, Title: Solo: A Star Wars Story, Year: 2018, Score: 50.00\n",
      "External ID: 16, Title: Jurassic World: Fallen Kingdom, Year: 2018, Score: 44.72\n",
      "External ID: 13, Title: Aquaman, Year: 2018, Score: 28.87\n",
      "External ID: 15, Title: Ready Player One, Year: 2018, Score: 28.87\n",
      "External ID: 14, Title: The Meg, Year: 2018, Score: 25.00\n",
      "External ID: 6, Title: A Star Is Born, Year: 2018, Score: 0.00\n",
      "External ID: 7, Title: Bohemian Rhapsody, Year: 2018, Score: 0.00\n"
     ]
    }
   ],
   "source": [
    "# Beispiel-Daten\n",
    "user_rated_movies = [\n",
    "    {\"externalId\": \"1\", \"title\": \"Emil and the Detectives\", \"year\": 1964, \"rating\": 4.5},\n",
    "    {\"externalId\": \"2\", \"title\": \"Pride and Prejudice\", \"year\": 2003, \"rating\": 1.5},\n",
    "    {\"externalId\": \"3\", \"title\": \"La La Land\", \"year\": 2016, \"rating\": 2.0}\n",
    "]\n",
    "cinema_movies = [\n",
    "    {\"externalId\": \"4\", \"title\": \"Black Panther\", \"year\": 2017},\n",
    "    {\"externalId\": \"5\", \"title\": \"Avengers: Infinity War - Part I\", \"year\": 2018},\n",
    "    {\"externalId\": \"6\", \"title\": \"A Star Is Born\", \"year\": 2018},\n",
    "    {\"externalId\": \"7\", \"title\": \"Bohemian Rhapsody\", \"year\": 2018},\n",
    "    {\"externalId\": \"8\", \"title\": \"Deadpool 2\", \"year\": 2018},\n",
    "    {\"externalId\": \"9\", \"title\": \"Spider-Man: Into the Spider-Verse\", \"year\": 2018},\n",
    "    {\"externalId\": \"10\", \"title\": \"Crazy Rich Asians\", \"year\": 2018},\n",
    "    {\"externalId\": \"11\", \"title\": \"Mission: Impossible - Fallout\", \"year\": 2018},\n",
    "    {\"externalId\": \"12\", \"title\": \"Solo: A Star Wars Story\", \"year\": 2018},\n",
    "    {\"externalId\": \"13\", \"title\": \"Aquaman\", \"year\": 2018},\n",
    "    {\"externalId\": \"14\", \"title\": \"The Meg\", \"year\": 2018},\n",
    "    {\"externalId\": \"15\", \"title\": \"Ready Player One\", \"year\": 2018},\n",
    "    {\"externalId\": \"16\", \"title\": \"Jurassic World: Fallen Kingdom\", \"year\": 2018}\n",
    "]\n",
    "\n",
    "# Map IDs\n",
    "mapped_user_ratings, mapped_movies  = map_movie_ids(movies, user_rated_movies, cinema_movies)\n",
    "# print(\"Mapped Movies:\", mapped_movies)\n",
    "# print(\"Mapped User Ratings:\", mapped_user_ratings)\n",
    "# Funktion aufrufen\n",
    "recommended_cinema_movies = recommend_movies(mapped_user_ratings, mapped_movies)\n",
    "for movie in recommended_cinema_movies:\n",
    "    print(f\"External ID: {movie['externalId']}, Title: {movie['movieTitle']}, Year: {movie['year']}, Score: {movie['score']:.2f}\")"
   ]
  },
  {
   "cell_type": "markdown",
   "metadata": {},
   "source": [
    "### Evaluate Content-Based Filtering"
   ]
  },
  {
   "cell_type": "code",
   "execution_count": 254,
   "metadata": {},
   "outputs": [
    {
     "ename": "FileNotFoundError",
     "evalue": "[Errno 2] No such file or directory: 'ratings.csv'",
     "output_type": "error",
     "traceback": [
      "\u001b[1;31m---------------------------------------------------------------------------\u001b[0m",
      "\u001b[1;31mFileNotFoundError\u001b[0m                         Traceback (most recent call last)",
      "Cell \u001b[1;32mIn[254], line 4\u001b[0m\n\u001b[0;32m      1\u001b[0m \u001b[38;5;28;01mfrom\u001b[39;00m \u001b[38;5;21;01msklearn\u001b[39;00m\u001b[38;5;21;01m.\u001b[39;00m\u001b[38;5;21;01mmodel_selection\u001b[39;00m \u001b[38;5;28;01mimport\u001b[39;00m train_test_split\n\u001b[0;32m      3\u001b[0m \u001b[38;5;66;03m# Laden der Ratings-Daten\u001b[39;00m\n\u001b[1;32m----> 4\u001b[0m ratings \u001b[38;5;241m=\u001b[39m \u001b[43mpd\u001b[49m\u001b[38;5;241;43m.\u001b[39;49m\u001b[43mread_csv\u001b[49m\u001b[43m(\u001b[49m\u001b[38;5;124;43m'\u001b[39;49m\u001b[38;5;124;43mratings.csv\u001b[39;49m\u001b[38;5;124;43m'\u001b[39;49m\u001b[43m)\u001b[49m\n\u001b[0;32m      6\u001b[0m \u001b[38;5;66;03m# Splitten der Daten in Trainings- und Testdatensets\u001b[39;00m\n\u001b[0;32m      7\u001b[0m train_ratings, test_ratings \u001b[38;5;241m=\u001b[39m train_test_split(ratings, test_size\u001b[38;5;241m=\u001b[39m\u001b[38;5;241m0.2\u001b[39m, random_state\u001b[38;5;241m=\u001b[39m\u001b[38;5;241m42\u001b[39m)\n",
      "File \u001b[1;32m~\\AppData\\Roaming\\Python\\Python312\\site-packages\\pandas\\io\\parsers\\readers.py:1026\u001b[0m, in \u001b[0;36mread_csv\u001b[1;34m(filepath_or_buffer, sep, delimiter, header, names, index_col, usecols, dtype, engine, converters, true_values, false_values, skipinitialspace, skiprows, skipfooter, nrows, na_values, keep_default_na, na_filter, verbose, skip_blank_lines, parse_dates, infer_datetime_format, keep_date_col, date_parser, date_format, dayfirst, cache_dates, iterator, chunksize, compression, thousands, decimal, lineterminator, quotechar, quoting, doublequote, escapechar, comment, encoding, encoding_errors, dialect, on_bad_lines, delim_whitespace, low_memory, memory_map, float_precision, storage_options, dtype_backend)\u001b[0m\n\u001b[0;32m   1013\u001b[0m kwds_defaults \u001b[38;5;241m=\u001b[39m _refine_defaults_read(\n\u001b[0;32m   1014\u001b[0m     dialect,\n\u001b[0;32m   1015\u001b[0m     delimiter,\n\u001b[1;32m   (...)\u001b[0m\n\u001b[0;32m   1022\u001b[0m     dtype_backend\u001b[38;5;241m=\u001b[39mdtype_backend,\n\u001b[0;32m   1023\u001b[0m )\n\u001b[0;32m   1024\u001b[0m kwds\u001b[38;5;241m.\u001b[39mupdate(kwds_defaults)\n\u001b[1;32m-> 1026\u001b[0m \u001b[38;5;28;01mreturn\u001b[39;00m \u001b[43m_read\u001b[49m\u001b[43m(\u001b[49m\u001b[43mfilepath_or_buffer\u001b[49m\u001b[43m,\u001b[49m\u001b[43m \u001b[49m\u001b[43mkwds\u001b[49m\u001b[43m)\u001b[49m\n",
      "File \u001b[1;32m~\\AppData\\Roaming\\Python\\Python312\\site-packages\\pandas\\io\\parsers\\readers.py:620\u001b[0m, in \u001b[0;36m_read\u001b[1;34m(filepath_or_buffer, kwds)\u001b[0m\n\u001b[0;32m    617\u001b[0m _validate_names(kwds\u001b[38;5;241m.\u001b[39mget(\u001b[38;5;124m\"\u001b[39m\u001b[38;5;124mnames\u001b[39m\u001b[38;5;124m\"\u001b[39m, \u001b[38;5;28;01mNone\u001b[39;00m))\n\u001b[0;32m    619\u001b[0m \u001b[38;5;66;03m# Create the parser.\u001b[39;00m\n\u001b[1;32m--> 620\u001b[0m parser \u001b[38;5;241m=\u001b[39m \u001b[43mTextFileReader\u001b[49m\u001b[43m(\u001b[49m\u001b[43mfilepath_or_buffer\u001b[49m\u001b[43m,\u001b[49m\u001b[43m \u001b[49m\u001b[38;5;241;43m*\u001b[39;49m\u001b[38;5;241;43m*\u001b[39;49m\u001b[43mkwds\u001b[49m\u001b[43m)\u001b[49m\n\u001b[0;32m    622\u001b[0m \u001b[38;5;28;01mif\u001b[39;00m chunksize \u001b[38;5;129;01mor\u001b[39;00m iterator:\n\u001b[0;32m    623\u001b[0m     \u001b[38;5;28;01mreturn\u001b[39;00m parser\n",
      "File \u001b[1;32m~\\AppData\\Roaming\\Python\\Python312\\site-packages\\pandas\\io\\parsers\\readers.py:1620\u001b[0m, in \u001b[0;36mTextFileReader.__init__\u001b[1;34m(self, f, engine, **kwds)\u001b[0m\n\u001b[0;32m   1617\u001b[0m     \u001b[38;5;28mself\u001b[39m\u001b[38;5;241m.\u001b[39moptions[\u001b[38;5;124m\"\u001b[39m\u001b[38;5;124mhas_index_names\u001b[39m\u001b[38;5;124m\"\u001b[39m] \u001b[38;5;241m=\u001b[39m kwds[\u001b[38;5;124m\"\u001b[39m\u001b[38;5;124mhas_index_names\u001b[39m\u001b[38;5;124m\"\u001b[39m]\n\u001b[0;32m   1619\u001b[0m \u001b[38;5;28mself\u001b[39m\u001b[38;5;241m.\u001b[39mhandles: IOHandles \u001b[38;5;241m|\u001b[39m \u001b[38;5;28;01mNone\u001b[39;00m \u001b[38;5;241m=\u001b[39m \u001b[38;5;28;01mNone\u001b[39;00m\n\u001b[1;32m-> 1620\u001b[0m \u001b[38;5;28mself\u001b[39m\u001b[38;5;241m.\u001b[39m_engine \u001b[38;5;241m=\u001b[39m \u001b[38;5;28;43mself\u001b[39;49m\u001b[38;5;241;43m.\u001b[39;49m\u001b[43m_make_engine\u001b[49m\u001b[43m(\u001b[49m\u001b[43mf\u001b[49m\u001b[43m,\u001b[49m\u001b[43m \u001b[49m\u001b[38;5;28;43mself\u001b[39;49m\u001b[38;5;241;43m.\u001b[39;49m\u001b[43mengine\u001b[49m\u001b[43m)\u001b[49m\n",
      "File \u001b[1;32m~\\AppData\\Roaming\\Python\\Python312\\site-packages\\pandas\\io\\parsers\\readers.py:1880\u001b[0m, in \u001b[0;36mTextFileReader._make_engine\u001b[1;34m(self, f, engine)\u001b[0m\n\u001b[0;32m   1878\u001b[0m     \u001b[38;5;28;01mif\u001b[39;00m \u001b[38;5;124m\"\u001b[39m\u001b[38;5;124mb\u001b[39m\u001b[38;5;124m\"\u001b[39m \u001b[38;5;129;01mnot\u001b[39;00m \u001b[38;5;129;01min\u001b[39;00m mode:\n\u001b[0;32m   1879\u001b[0m         mode \u001b[38;5;241m+\u001b[39m\u001b[38;5;241m=\u001b[39m \u001b[38;5;124m\"\u001b[39m\u001b[38;5;124mb\u001b[39m\u001b[38;5;124m\"\u001b[39m\n\u001b[1;32m-> 1880\u001b[0m \u001b[38;5;28mself\u001b[39m\u001b[38;5;241m.\u001b[39mhandles \u001b[38;5;241m=\u001b[39m \u001b[43mget_handle\u001b[49m\u001b[43m(\u001b[49m\n\u001b[0;32m   1881\u001b[0m \u001b[43m    \u001b[49m\u001b[43mf\u001b[49m\u001b[43m,\u001b[49m\n\u001b[0;32m   1882\u001b[0m \u001b[43m    \u001b[49m\u001b[43mmode\u001b[49m\u001b[43m,\u001b[49m\n\u001b[0;32m   1883\u001b[0m \u001b[43m    \u001b[49m\u001b[43mencoding\u001b[49m\u001b[38;5;241;43m=\u001b[39;49m\u001b[38;5;28;43mself\u001b[39;49m\u001b[38;5;241;43m.\u001b[39;49m\u001b[43moptions\u001b[49m\u001b[38;5;241;43m.\u001b[39;49m\u001b[43mget\u001b[49m\u001b[43m(\u001b[49m\u001b[38;5;124;43m\"\u001b[39;49m\u001b[38;5;124;43mencoding\u001b[39;49m\u001b[38;5;124;43m\"\u001b[39;49m\u001b[43m,\u001b[49m\u001b[43m \u001b[49m\u001b[38;5;28;43;01mNone\u001b[39;49;00m\u001b[43m)\u001b[49m\u001b[43m,\u001b[49m\n\u001b[0;32m   1884\u001b[0m \u001b[43m    \u001b[49m\u001b[43mcompression\u001b[49m\u001b[38;5;241;43m=\u001b[39;49m\u001b[38;5;28;43mself\u001b[39;49m\u001b[38;5;241;43m.\u001b[39;49m\u001b[43moptions\u001b[49m\u001b[38;5;241;43m.\u001b[39;49m\u001b[43mget\u001b[49m\u001b[43m(\u001b[49m\u001b[38;5;124;43m\"\u001b[39;49m\u001b[38;5;124;43mcompression\u001b[39;49m\u001b[38;5;124;43m\"\u001b[39;49m\u001b[43m,\u001b[49m\u001b[43m \u001b[49m\u001b[38;5;28;43;01mNone\u001b[39;49;00m\u001b[43m)\u001b[49m\u001b[43m,\u001b[49m\n\u001b[0;32m   1885\u001b[0m \u001b[43m    \u001b[49m\u001b[43mmemory_map\u001b[49m\u001b[38;5;241;43m=\u001b[39;49m\u001b[38;5;28;43mself\u001b[39;49m\u001b[38;5;241;43m.\u001b[39;49m\u001b[43moptions\u001b[49m\u001b[38;5;241;43m.\u001b[39;49m\u001b[43mget\u001b[49m\u001b[43m(\u001b[49m\u001b[38;5;124;43m\"\u001b[39;49m\u001b[38;5;124;43mmemory_map\u001b[39;49m\u001b[38;5;124;43m\"\u001b[39;49m\u001b[43m,\u001b[49m\u001b[43m \u001b[49m\u001b[38;5;28;43;01mFalse\u001b[39;49;00m\u001b[43m)\u001b[49m\u001b[43m,\u001b[49m\n\u001b[0;32m   1886\u001b[0m \u001b[43m    \u001b[49m\u001b[43mis_text\u001b[49m\u001b[38;5;241;43m=\u001b[39;49m\u001b[43mis_text\u001b[49m\u001b[43m,\u001b[49m\n\u001b[0;32m   1887\u001b[0m \u001b[43m    \u001b[49m\u001b[43merrors\u001b[49m\u001b[38;5;241;43m=\u001b[39;49m\u001b[38;5;28;43mself\u001b[39;49m\u001b[38;5;241;43m.\u001b[39;49m\u001b[43moptions\u001b[49m\u001b[38;5;241;43m.\u001b[39;49m\u001b[43mget\u001b[49m\u001b[43m(\u001b[49m\u001b[38;5;124;43m\"\u001b[39;49m\u001b[38;5;124;43mencoding_errors\u001b[39;49m\u001b[38;5;124;43m\"\u001b[39;49m\u001b[43m,\u001b[49m\u001b[43m \u001b[49m\u001b[38;5;124;43m\"\u001b[39;49m\u001b[38;5;124;43mstrict\u001b[39;49m\u001b[38;5;124;43m\"\u001b[39;49m\u001b[43m)\u001b[49m\u001b[43m,\u001b[49m\n\u001b[0;32m   1888\u001b[0m \u001b[43m    \u001b[49m\u001b[43mstorage_options\u001b[49m\u001b[38;5;241;43m=\u001b[39;49m\u001b[38;5;28;43mself\u001b[39;49m\u001b[38;5;241;43m.\u001b[39;49m\u001b[43moptions\u001b[49m\u001b[38;5;241;43m.\u001b[39;49m\u001b[43mget\u001b[49m\u001b[43m(\u001b[49m\u001b[38;5;124;43m\"\u001b[39;49m\u001b[38;5;124;43mstorage_options\u001b[39;49m\u001b[38;5;124;43m\"\u001b[39;49m\u001b[43m,\u001b[49m\u001b[43m \u001b[49m\u001b[38;5;28;43;01mNone\u001b[39;49;00m\u001b[43m)\u001b[49m\u001b[43m,\u001b[49m\n\u001b[0;32m   1889\u001b[0m \u001b[43m\u001b[49m\u001b[43m)\u001b[49m\n\u001b[0;32m   1890\u001b[0m \u001b[38;5;28;01massert\u001b[39;00m \u001b[38;5;28mself\u001b[39m\u001b[38;5;241m.\u001b[39mhandles \u001b[38;5;129;01mis\u001b[39;00m \u001b[38;5;129;01mnot\u001b[39;00m \u001b[38;5;28;01mNone\u001b[39;00m\n\u001b[0;32m   1891\u001b[0m f \u001b[38;5;241m=\u001b[39m \u001b[38;5;28mself\u001b[39m\u001b[38;5;241m.\u001b[39mhandles\u001b[38;5;241m.\u001b[39mhandle\n",
      "File \u001b[1;32m~\\AppData\\Roaming\\Python\\Python312\\site-packages\\pandas\\io\\common.py:873\u001b[0m, in \u001b[0;36mget_handle\u001b[1;34m(path_or_buf, mode, encoding, compression, memory_map, is_text, errors, storage_options)\u001b[0m\n\u001b[0;32m    868\u001b[0m \u001b[38;5;28;01melif\u001b[39;00m \u001b[38;5;28misinstance\u001b[39m(handle, \u001b[38;5;28mstr\u001b[39m):\n\u001b[0;32m    869\u001b[0m     \u001b[38;5;66;03m# Check whether the filename is to be opened in binary mode.\u001b[39;00m\n\u001b[0;32m    870\u001b[0m     \u001b[38;5;66;03m# Binary mode does not support 'encoding' and 'newline'.\u001b[39;00m\n\u001b[0;32m    871\u001b[0m     \u001b[38;5;28;01mif\u001b[39;00m ioargs\u001b[38;5;241m.\u001b[39mencoding \u001b[38;5;129;01mand\u001b[39;00m \u001b[38;5;124m\"\u001b[39m\u001b[38;5;124mb\u001b[39m\u001b[38;5;124m\"\u001b[39m \u001b[38;5;129;01mnot\u001b[39;00m \u001b[38;5;129;01min\u001b[39;00m ioargs\u001b[38;5;241m.\u001b[39mmode:\n\u001b[0;32m    872\u001b[0m         \u001b[38;5;66;03m# Encoding\u001b[39;00m\n\u001b[1;32m--> 873\u001b[0m         handle \u001b[38;5;241m=\u001b[39m \u001b[38;5;28;43mopen\u001b[39;49m\u001b[43m(\u001b[49m\n\u001b[0;32m    874\u001b[0m \u001b[43m            \u001b[49m\u001b[43mhandle\u001b[49m\u001b[43m,\u001b[49m\n\u001b[0;32m    875\u001b[0m \u001b[43m            \u001b[49m\u001b[43mioargs\u001b[49m\u001b[38;5;241;43m.\u001b[39;49m\u001b[43mmode\u001b[49m\u001b[43m,\u001b[49m\n\u001b[0;32m    876\u001b[0m \u001b[43m            \u001b[49m\u001b[43mencoding\u001b[49m\u001b[38;5;241;43m=\u001b[39;49m\u001b[43mioargs\u001b[49m\u001b[38;5;241;43m.\u001b[39;49m\u001b[43mencoding\u001b[49m\u001b[43m,\u001b[49m\n\u001b[0;32m    877\u001b[0m \u001b[43m            \u001b[49m\u001b[43merrors\u001b[49m\u001b[38;5;241;43m=\u001b[39;49m\u001b[43merrors\u001b[49m\u001b[43m,\u001b[49m\n\u001b[0;32m    878\u001b[0m \u001b[43m            \u001b[49m\u001b[43mnewline\u001b[49m\u001b[38;5;241;43m=\u001b[39;49m\u001b[38;5;124;43m\"\u001b[39;49m\u001b[38;5;124;43m\"\u001b[39;49m\u001b[43m,\u001b[49m\n\u001b[0;32m    879\u001b[0m \u001b[43m        \u001b[49m\u001b[43m)\u001b[49m\n\u001b[0;32m    880\u001b[0m     \u001b[38;5;28;01melse\u001b[39;00m:\n\u001b[0;32m    881\u001b[0m         \u001b[38;5;66;03m# Binary mode\u001b[39;00m\n\u001b[0;32m    882\u001b[0m         handle \u001b[38;5;241m=\u001b[39m \u001b[38;5;28mopen\u001b[39m(handle, ioargs\u001b[38;5;241m.\u001b[39mmode)\n",
      "\u001b[1;31mFileNotFoundError\u001b[0m: [Errno 2] No such file or directory: 'ratings.csv'"
     ]
    }
   ],
   "source": [
    "from sklearn.model_selection import train_test_split\n",
    "\n",
    "# Laden der Ratings-Daten\n",
    "ratings = pd.read_csv('../data/ml-25m/ratings.csv')\n",
    "\n",
    "# Splitten der Daten in Trainings- und Testdatensets\n",
    "train_ratings, test_ratings = train_test_split(ratings, test_size=0.2, random_state=42)\n",
    "\n",
    "# Überprüfen der Splits\n",
    "print(f\"Trainingsdaten: {train_ratings.shape}\")\n",
    "print(f\"Testdaten: {test_ratings.shape}\")"
   ]
  }
 ],
 "metadata": {
  "kernelspec": {
   "display_name": "Python 3",
   "language": "python",
   "name": "python3"
  },
  "language_info": {
   "codemirror_mode": {
    "name": "ipython",
    "version": 3
   },
   "file_extension": ".py",
   "mimetype": "text/x-python",
   "name": "python",
   "nbconvert_exporter": "python",
   "pygments_lexer": "ipython3",
   "version": "3.12.4"
  }
 },
 "nbformat": 4,
 "nbformat_minor": 2
}
