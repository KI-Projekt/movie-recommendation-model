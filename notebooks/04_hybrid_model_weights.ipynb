{
 "cells": [
  {
   "cell_type": "markdown",
   "metadata": {},
   "source": [
    "# Optimize weights of different models in hybrid model\n",
    "The methods are mathematical not correct, but give an approximation"
   ]
  },
  {
   "cell_type": "markdown",
   "metadata": {},
   "source": [
    "## RMSE 1"
   ]
  },
  {
   "cell_type": "code",
   "execution_count": 2,
   "metadata": {},
   "outputs": [
    {
     "name": "stdout",
     "output_type": "stream",
     "text": [
      "Optimale Gewichte (RMSE): [0. 0. 1.]\n"
     ]
    }
   ],
   "source": [
    "import numpy as np\n",
    "from scipy.optimize import minimize\n",
    "\n",
    "\n",
    "def find_optimal_weights_rmse_simpler(\n",
    "    mae_model_content_based, mae_model_neighborhood, mae_model_matrix_factorization\n",
    "):\n",
    "    def combined_rmse(weights, rmse):\n",
    "        # Berechne den gewichteten MAE\n",
    "        weighted_mae = np.sum(weights * rmse) / np.sum(weights)\n",
    "        return weighted_mae\n",
    "\n",
    "    # Startwerte für die Gewichte\n",
    "    initial_weights = np.array([1.0, 1.0, 1.0])\n",
    "\n",
    "    # MAE-Werte der Modelle in ein Array packen\n",
    "    rmses = np.array(\n",
    "        [\n",
    "            mae_model_content_based,\n",
    "            mae_model_neighborhood,\n",
    "            mae_model_matrix_factorization,\n",
    "        ]\n",
    "    )\n",
    "\n",
    "    # Optimierung durchführen\n",
    "    result = minimize(\n",
    "        combined_rmse,\n",
    "        initial_weights,\n",
    "        args=(rmses,),\n",
    "        bounds=[(0, None), (0, None), (0, None)],\n",
    "    )\n",
    "\n",
    "    # Optimale Gewichte\n",
    "    optimal_weights = result.x / np.sum(\n",
    "        result.x\n",
    "    )  # Normieren der Gewichte, sodass sie sich auf 1 summieren\n",
    "    return optimal_weights\n",
    "\n",
    "\n",
    "# Beispiel-RMSE-Werte der einzelnen Modelle\n",
    "rmse_model_content_based = 1.72\n",
    "rmse_model_neighborhood = 1.12\n",
    "rmse_model_matrix_factorization = 1.07\n",
    "\n",
    "# Optimale Gewichte berechnen\n",
    "optimal_weights_mae = find_optimal_weights_rmse_simpler(\n",
    "    rmse_model_content_based, rmse_model_neighborhood, rmse_model_matrix_factorization\n",
    ")\n",
    "print(\"Optimale Gewichte (RMSE):\", optimal_weights_mae)\n",
    "# Optimale Gewichte (RMSE): [0.00000000e+00 3.74094352e-18 1.00000000e+00] -> 100% Matrix-Faktorisierung (nicht sinnvoll)"
   ]
  },
  {
   "cell_type": "markdown",
   "metadata": {},
   "source": [
    "## RMSE 2"
   ]
  },
  {
   "cell_type": "code",
   "execution_count": 3,
   "metadata": {},
   "outputs": [
    {
     "name": "stdout",
     "output_type": "stream",
     "text": [
      "Optimale Gewichte: [0.11270238 0.37353928 0.51375835]\n"
     ]
    },
    {
     "name": "stderr",
     "output_type": "stream",
     "text": [
      "/var/folders/sp/c9cmt9zd5mn1_1n29y4lkh1c0000gn/T/ipykernel_31731/1281128693.py:10: RuntimeWarning: invalid value encountered in double_scalars\n",
      "  weighted_rmse = np.sqrt(np.sum((weights * rmses) ** 2) / np.sum(weights))\n"
     ]
    }
   ],
   "source": [
    "import numpy as np\n",
    "from scipy.optimize import minimize\n",
    "\n",
    "\n",
    "def find_optimal_weights(\n",
    "    rmse_model_content_based, rmse_model_neighborhood, rmse_model_matrix_factorization\n",
    "):\n",
    "    def combined_rmse(weights, rmses):\n",
    "        # Berechne den gewichteten RMSE\n",
    "        weighted_rmse = np.sqrt(np.sum((weights * rmses) ** 2) / np.sum(weights))\n",
    "        return weighted_rmse\n",
    "\n",
    "    # Startwerte für die Gewichte\n",
    "    initial_weights = np.array([1.0, 1.0, 1.0])\n",
    "\n",
    "    # RMSE-Werte der Modelle in ein Array packen\n",
    "    rmses = np.array(\n",
    "        [\n",
    "            rmse_model_content_based,\n",
    "            rmse_model_neighborhood,\n",
    "            rmse_model_matrix_factorization,\n",
    "        ]\n",
    "    )\n",
    "\n",
    "    # Optimierung durchführen\n",
    "    result = minimize(\n",
    "        combined_rmse,\n",
    "        initial_weights,\n",
    "        args=(rmses,),\n",
    "        bounds=[(0, None), (0, None), (0, None)],\n",
    "    )\n",
    "\n",
    "    # Optimale Gewichte\n",
    "    optimal_weights = result.x / np.sum(\n",
    "        result.x\n",
    "    )  # Normieren der Gewichte, sodass sie sich auf 1 summieren\n",
    "    return optimal_weights\n",
    "\n",
    "\n",
    "# Beispiel-RMSE-Werte der einzelnen Modelle\n",
    "rmse_model_content_based = 1.72\n",
    "rmse_model_neighborhood = 1.12\n",
    "rmse_model_matrix_factorization = 1.07\n",
    "\n",
    "# Optimale Gewichte berechnen\n",
    "optimal_weights = find_optimal_weights(\n",
    "    rmse_model_content_based, rmse_model_neighborhood, rmse_model_matrix_factorization\n",
    ")\n",
    "print(\"Optimale Gewichte:\", optimal_weights)\n",
    "# Optimale Gewichte: [0.11270225 0.37353889 0.51375886] -> 11.27% Content-Based, 37.35% Neighborhood, 51.38% Matrix Factorization [We used this in the final model]"
   ]
  },
  {
   "cell_type": "markdown",
   "metadata": {},
   "source": [
    "## MAE"
   ]
  },
  {
   "cell_type": "code",
   "execution_count": 4,
   "metadata": {},
   "outputs": [
    {
     "name": "stdout",
     "output_type": "stream",
     "text": [
      "Optimale Gewichte (MAE): [0.00000000e+00 5.21944168e-17 1.00000000e+00]\n"
     ]
    }
   ],
   "source": [
    "import numpy as np\n",
    "from scipy.optimize import minimize\n",
    "\n",
    "\n",
    "def find_optimal_weights_mae(\n",
    "    mae_model_content_based, mae_model_neighborhood, mae_model_matrix_factorization\n",
    "):\n",
    "    def combined_mae(weights, maes):\n",
    "        # Berechne den gewichteten MAE\n",
    "        weighted_mae = np.sum(weights * maes) / np.sum(weights)\n",
    "        return weighted_mae\n",
    "\n",
    "    # Startwerte für die Gewichte\n",
    "    initial_weights = np.array([1.0, 1.0, 1.0])\n",
    "\n",
    "    # MAE-Werte der Modelle in ein Array packen\n",
    "    maes = np.array(\n",
    "        [\n",
    "            mae_model_content_based,\n",
    "            mae_model_neighborhood,\n",
    "            mae_model_matrix_factorization,\n",
    "        ]\n",
    "    )\n",
    "\n",
    "    # Optimierung durchführen\n",
    "    result = minimize(\n",
    "        combined_mae,\n",
    "        initial_weights,\n",
    "        args=(maes,),\n",
    "        bounds=[(0, None), (0, None), (0, None)],\n",
    "    )\n",
    "\n",
    "    # Optimale Gewichte\n",
    "    optimal_weights = result.x / np.sum(\n",
    "        result.x\n",
    "    )  # Normieren der Gewichte, sodass sie sich auf 1 summieren\n",
    "    return optimal_weights\n",
    "\n",
    "\n",
    "# Beispiel-MAE-Werte der einzelnen Modelle\n",
    "mae_model_content_based = 1.39\n",
    "mae_model_neighborhood = 0.87\n",
    "mae_model_matrix_factorization = 0.84\n",
    "\n",
    "# Optimale Gewichte berechnen\n",
    "optimal_weights_mae = find_optimal_weights_mae(\n",
    "    mae_model_content_based, mae_model_neighborhood, mae_model_matrix_factorization\n",
    ")\n",
    "print(\"Optimale Gewichte (MAE):\", optimal_weights_mae)\n",
    "# Optimale Gewichte (MAE): [0.00000000e+00 5.21944168e-17 1.00000000e+00] -> 100% Matrix-Faktorisierung (nicht sinnvoll)"
   ]
  }
 ],
 "metadata": {
  "kernelspec": {
   "display_name": "Python 3",
   "language": "python",
   "name": "python3"
  },
  "language_info": {
   "codemirror_mode": {
    "name": "ipython",
    "version": 3
   },
   "file_extension": ".py",
   "mimetype": "text/x-python",
   "name": "python",
   "nbconvert_exporter": "python",
   "pygments_lexer": "ipython3",
   "version": "3.10.13"
  }
 },
 "nbformat": 4,
 "nbformat_minor": 2
}
